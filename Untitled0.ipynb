{
  "nbformat": 4,
  "nbformat_minor": 0,
  "metadata": {
    "colab": {
      "provenance": []
    },
    "kernelspec": {
      "name": "python3",
      "display_name": "Python 3"
    },
    "language_info": {
      "name": "python"
    }
  },
  "cells": [
    {
      "cell_type": "code",
      "execution_count": 14,
      "metadata": {
        "id": "-pFtRROK0_jF",
        "colab": {
          "base_uri": "https://localhost:8080/"
        },
        "outputId": "71c5d453-6876-433c-f3fd-d15f380ae1e1"
      },
      "outputs": [
        {
          "output_type": "stream",
          "name": "stdout",
          "text": [
            "     Unnamed: 0                                  name  \\\n",
            "0             0              Welcome To New York (TV)   \n",
            "1             1                      Blank Space (TV)   \n",
            "2             2                            Style (TV)   \n",
            "3             3                 Out Of The Woods (TV)   \n",
            "4             4       All You Had To Do Was Stay (TV)   \n",
            "..          ...                                   ...   \n",
            "525         525                              Our Song   \n",
            "526         526         I'm Only Me When I'm With You   \n",
            "527         527                             Invisible   \n",
            "528         528                A Perfectly Good Heart   \n",
            "529         529  Teardrops on My Guitar - Pop Version   \n",
            "\n",
            "                                album release_date  track_number  \\\n",
            "0    1989 (Taylor's Version) [Deluxe]   2023-10-27             1   \n",
            "1    1989 (Taylor's Version) [Deluxe]   2023-10-27             2   \n",
            "2    1989 (Taylor's Version) [Deluxe]   2023-10-27             3   \n",
            "3    1989 (Taylor's Version) [Deluxe]   2023-10-27             4   \n",
            "4    1989 (Taylor's Version) [Deluxe]   2023-10-27             5   \n",
            "..                                ...          ...           ...   \n",
            "525                      Taylor Swift   2006-10-24            11   \n",
            "526                      Taylor Swift   2006-10-24            12   \n",
            "527                      Taylor Swift   2006-10-24            13   \n",
            "528                      Taylor Swift   2006-10-24            14   \n",
            "529                      Taylor Swift   2006-10-24            15   \n",
            "\n",
            "                         id                                   uri  \\\n",
            "0    4WUepByoeqcedHoYhSNHRt  spotify:track:4WUepByoeqcedHoYhSNHRt   \n",
            "1    0108kcWLnn2HlH2kedi1gn  spotify:track:0108kcWLnn2HlH2kedi1gn   \n",
            "2    3Vpk1hfMAQme8VJ0SNRSkd  spotify:track:3Vpk1hfMAQme8VJ0SNRSkd   \n",
            "3    1OcSfkeCg9hRC2sFKB4IMJ  spotify:track:1OcSfkeCg9hRC2sFKB4IMJ   \n",
            "4    2k0ZEeAqzvYMcx9Qt5aClQ  spotify:track:2k0ZEeAqzvYMcx9Qt5aClQ   \n",
            "..                      ...                                   ...   \n",
            "525  15DeqWWQB4dcEWzJg15VrN  spotify:track:15DeqWWQB4dcEWzJg15VrN   \n",
            "526  0JIdBrXGSJXS72zjF9ss9u  spotify:track:0JIdBrXGSJXS72zjF9ss9u   \n",
            "527  5OOd01o2YS1QFwdpVLds3r  spotify:track:5OOd01o2YS1QFwdpVLds3r   \n",
            "528  1spLfUJxtyVyiKKTegQ2r4  spotify:track:1spLfUJxtyVyiKKTegQ2r4   \n",
            "529  4pJi1rVt9GNegU9kywjg4z  spotify:track:4pJi1rVt9GNegU9kywjg4z   \n",
            "\n",
            "     acousticness  danceability energy  instrumentalness  liveness  loudness  \\\n",
            "0        0.009420         0.757    0.6          0.000037    0.3670    -4.840   \n",
            "1        0.088500         0.733    0.7          0.000000    0.1680    -5.376   \n",
            "2        0.000421         0.511    0.8          0.019700    0.0899    -4.785   \n",
            "3        0.000537         0.545    0.8          0.000056    0.3850    -5.968   \n",
            "4        0.000656         0.588    0.7          0.000000    0.1310    -5.579   \n",
            "..            ...           ...    ...               ...       ...       ...   \n",
            "525      0.111000         0.668    0.6          0.000000    0.3290    -4.931   \n",
            "526      0.004520         0.563    0.9          0.000807    0.1030    -3.629   \n",
            "527      0.637000         0.612    0.3          0.000000    0.1470    -5.723   \n",
            "528      0.003490         0.483    0.7          0.000000    0.1280    -5.726   \n",
            "529      0.040200         0.459    0.7          0.000000    0.0863    -3.827   \n",
            "\n",
            "     speechiness    tempo  valence  popularity  duration_ms  \n",
            "0         0.0327  116.998    0.685          70      212.600  \n",
            "1         0.0670   96.057    0.701          71      231.833  \n",
            "2         0.0397   94.868    0.305          72      231.000  \n",
            "3         0.0447   92.021    0.206          71      235.800  \n",
            "4         0.0317   96.997    0.520          70      193.289  \n",
            "..           ...      ...      ...         ...          ...  \n",
            "525       0.0303   89.011    0.539          76      201.106  \n",
            "526       0.0646  143.964    0.518          62      213.053  \n",
            "527       0.0243   96.001    0.233          58      203.226  \n",
            "528       0.0365  156.092    0.268          57      220.146  \n",
            "529       0.0537  199.997    0.483          57      179.066  \n",
            "\n",
            "[530 rows x 18 columns]\n"
          ]
        }
      ],
      "source": [
        "import time\n",
        "import pandas as pd\n",
        "import numpy as np\n",
        "\n",
        "df = pd.read_csv(\"./taylor_swift_spotify.csv\")\n",
        "taylor = list(df.columns)\n",
        "\n",
        "\n",
        "def milliseconds_to_seconds(duration_ms):\n",
        "  return duration_ms / 1000\n",
        "\n",
        "def taylorsversion_to_tv(name):\n",
        "  name = str(name)\n",
        "  name = name.replace(\"Taylor's Version\",\"TV\")\n",
        "  return name\n",
        "\n",
        "\n",
        "def redondear(energy):\n",
        "  energy = str(energy)\n",
        "  energy = energy[:3]\n",
        "  return energy\n",
        "\n",
        "\n",
        "\n",
        "\n",
        "df[\"name\"] = df[\"name\"].apply(taylorsversion_to_tv)\n",
        "df[\"energy\"] = df[\"energy\"].apply(redondear)\n",
        "df[\"duration_ms\"] = df[\"duration_ms\"].apply(milliseconds_to_seconds)\n",
        "print(df)\n",
        "\n",
        "df.to_csv('./nuevo.csv')\n",
        "\n",
        "\n"
      ]
    },
    {
      "cell_type": "code",
      "source": [
        "from google.colab import drive\n",
        "drive.mount('/content/drive')"
      ],
      "metadata": {
        "id": "BXpgfnrFJaGf"
      },
      "execution_count": null,
      "outputs": []
    }
  ]
}