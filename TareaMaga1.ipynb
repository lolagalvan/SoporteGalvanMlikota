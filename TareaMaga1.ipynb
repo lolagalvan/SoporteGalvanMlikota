{
  "nbformat": 4,
  "nbformat_minor": 0,
  "metadata": {
    "colab": {
      "provenance": []
    },
    "kernelspec": {
      "name": "python3",
      "display_name": "Python 3"
    },
    "language_info": {
      "name": "python"
    }
  },
  "cells": [
    {
      "cell_type": "code",
      "execution_count": null,
      "metadata": {
        "id": "WJHJFO-xy1fO",
        "colab": {
          "base_uri": "https://localhost:8080/"
        },
        "outputId": "ca0e6d45-b5ba-48c7-c9dd-954149200dd9"
      },
      "outputs": [
        {
          "output_type": "stream",
          "name": "stdout",
          "text": [
            "annaylola\n"
          ]
        }
      ],
      "source": [
        "nombre=[\" anna \",\" y \",\" lola \"]\n",
        "def eliminarEspacios(lista):\n",
        "    return ''.join(elemento.strip() for elemento in lista)#el elemento.strip() es para borrar los espacios de al principio y al final de los elementos, pero le agregamos el join() porque decia en google que de esa forma se concatenaban y funciono :)\n",
        "sinEspacios = eliminarEspacios(nombre)\n",
        "print(sinEspacios)"
      ]
    },
    {
      "cell_type": "code",
      "source": [],
      "metadata": {
        "id": "i-pOn3qn0acQ"
      },
      "execution_count": null,
      "outputs": []
    }
  ]
}